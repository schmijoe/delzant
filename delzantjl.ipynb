{
 "cells": [
  {
   "cell_type": "code",
   "execution_count": null,
   "id": "301f6abc-1ea0-4394-b254-d342578b58b3",
   "metadata": {
    "tags": []
   },
   "outputs": [],
   "source": [
    "using Polyhedra\n",
    "include(\"delzant.jl\")\n",
    "\n",
    "Δ2 = Polygon([Edge([1,0],0),Edge([-1,0],-1),Edge([0,1],0),Edge([0,-1],-1)])\n"
   ]
  },
  {
   "cell_type": "code",
   "execution_count": null,
   "id": "d0c4f7f1-6235-4039-9836-e2e753dcb670",
   "metadata": {},
   "outputs": [],
   "source": []
  }
 ],
 "metadata": {
  "kernelspec": {
   "display_name": "Julia 1.8.5",
   "language": "julia",
   "name": "julia-1.8"
  },
  "language_info": {
   "file_extension": ".jl",
   "mimetype": "application/julia",
   "name": "julia",
   "version": "1.8.5"
  }
 },
 "nbformat": 4,
 "nbformat_minor": 5
}
